{
  "cells": [
    {
      "cell_type": "markdown",
      "metadata": {},
      "source": [
        "# Temporal Dynamics Model Training\n",
        "\n",
        "This notebook demonstrates training the Temporal Dynamics Model, which captures cellular response kinetics and temporal patterns in gene expression.\n",
        "\n",
        "## Model Features\n",
        "- **Temporal response modeling**: Fast and slow response kinetics\n",
        "- **Time-step processing**: Handles temporal sequences\n",
        "- **Feedback loops**: Models regulatory feedback mechanisms\n",
        "- **Temporal attention**: Focuses on relevant time points\n"
      ]
    },
    {
      "cell_type": "code",
      "execution_count": null,
      "metadata": {},
      "outputs": [],
      "source": [
        "import torch\n",
        "import torch.nn as nn\n",
        "import torch.optim as optim\n",
        "import lightning as L\n",
        "import numpy as np\n",
        "import pandas as pd\n",
        "import matplotlib.pyplot as plt\n",
        "import seaborn as sns\n",
        "from pathlib import Path\n",
        "import json\n",
        "import logging\n",
        "from typing import Dict, List, Optional, Tuple\n",
        "\n",
        "# Set up logging\n",
        "logging.basicConfig(level=logging.INFO)\n",
        "logger = logging.getLogger(__name__)\n",
        "\n",
        "# Set random seeds for reproducibility\n",
        "torch.manual_seed(42)\n",
        "np.random.seed(42)\n",
        "\n",
        "# Set device\n",
        "device = torch.device('cuda' if torch.cuda.is_available() else 'cpu')\n",
        "print(f\"Using device: {device}\")\n",
        "\n",
        "# Import enhanced models\n",
        "from src.state.emb.nn.enhanced_models import TemporalDynamicsModel\n",
        "from src.state.emb.data.enhanced_loaders import TemporalDataLoader\n",
        "from src.state.emb.data.loader import create_dataloader\n",
        "from src.state.emb.nn.model import StateEmbeddingModel\n",
        "from src.state import utils\n",
        "\n",
        "print(\"Enhanced models and loaders imported successfully!\")\n"
      ]
    }
  ],
  "metadata": {
    "language_info": {
      "name": "python"
    }
  },
  "nbformat": 4,
  "nbformat_minor": 2
}
