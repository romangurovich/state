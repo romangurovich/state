{
  "cells": [
    {
      "cell_type": "markdown",
      "metadata": {},
      "source": [
        "# Hierarchical Temporal Model Training\n",
        "\n",
        "This notebook demonstrates training the Hierarchical Temporal Model, which combines hierarchical gene organization with temporal dynamics for comprehensive cellular modeling.\n",
        "\n",
        "## Model Features\n",
        "- **Hierarchical + Temporal**: Combines pathway organization with temporal kinetics\n",
        "- **Pathway-temporal correlations**: Analyzes relationships between pathways and time\n",
        "- **Compartment-temporal processing**: Handles spatial-temporal dynamics\n",
        "- **Combined attention**: Multi-level attention with temporal awareness\n"
      ]
    },
    {
      "cell_type": "code",
      "execution_count": null,
      "metadata": {},
      "outputs": [],
      "source": [
        "import torch\n",
        "import torch.nn as nn\n",
        "import torch.optim as optim\n",
        "import lightning as L\n",
        "import numpy as np\n",
        "import pandas as pd\n",
        "import matplotlib.pyplot as plt\n",
        "import seaborn as sns\n",
        "from pathlib import Path\n",
        "import json\n",
        "import logging\n",
        "from typing import Dict, List, Optional, Tuple\n",
        "\n",
        "# Set up logging\n",
        "logging.basicConfig(level=logging.INFO)\n",
        "logger = logging.getLogger(__name__)\n",
        "\n",
        "# Set random seeds for reproducibility\n",
        "torch.manual_seed(42)\n",
        "np.random.seed(42)\n",
        "\n",
        "# Set device\n",
        "device = torch.device('cuda' if torch.cuda.is_available() else 'cpu')\n",
        "print(f\"Using device: {device}\")\n",
        "\n",
        "# Import enhanced models and loaders\n",
        "from src.state.emb.nn.enhanced_models import HierarchicalTemporalModel\n",
        "from src.state.emb.data.enhanced_loaders import HierarchicalTemporalLoader\n",
        "from src.state.emb.data.loader import create_dataloader\n",
        "from src.state.emb.nn.model import StateEmbeddingModel\n",
        "from src.state import utils\n",
        "\n",
        "print(\"Enhanced models and loaders imported successfully!\")\n"
      ]
    },
    {
      "cell_type": "markdown",
      "metadata": {},
      "source": [
        "## Configuration Setup\n"
      ]
    },
    {
      "cell_type": "code",
      "execution_count": null,
      "metadata": {},
      "outputs": [],
      "source": [
        "# Model configuration for Hierarchical Temporal Model\n",
        "config = {\n",
        "    'model': {\n",
        "        'token_dim': 512,\n",
        "        'd_model': 512,\n",
        "        'nhead': 8,\n",
        "        'd_hid': 2048,\n",
        "        'nlayers': 6,\n",
        "        'output_dim': 128,\n",
        "        'dropout': 0.1,\n",
        "        'warmup_steps': 1000,\n",
        "        'max_lr': 4e-4,\n",
        "        'compiled': False,\n",
        "        'dataset_correction': True,\n",
        "        'counts': True,\n",
        "        'rda': True\n",
        "    },\n",
        "    'dataset': {\n",
        "        'pad_length': 512,\n",
        "        'P': 50,\n",
        "        'N': 50,\n",
        "        'S': 20\n",
        "    },\n",
        "    'training': {\n",
        "        'batch_size': 32,\n",
        "        'max_epochs': 100,\n",
        "        'gradient_clip_val': 1.0,\n",
        "        'accumulate_grad_batches': 1,\n",
        "        'precision': '16-mixed'\n",
        "    },\n",
        "    'hierarchical_temporal': {\n",
        "        'num_pathways': 1000,\n",
        "        'num_compartments': 5,\n",
        "        'time_steps': 5,\n",
        "        'pathway_annotation_file': 'data/pathways.txt',\n",
        "        'compartment_annotation_file': 'data/compartments.txt'\n",
        "    }\n",
        "}\n",
        "\n",
        "print(\"Configuration loaded:\")\n",
        "print(json.dumps(config, indent=2))\n"
      ]
    }
  ],
  "metadata": {
    "language_info": {
      "name": "python"
    }
  },
  "nbformat": 4,
  "nbformat_minor": 2
}
