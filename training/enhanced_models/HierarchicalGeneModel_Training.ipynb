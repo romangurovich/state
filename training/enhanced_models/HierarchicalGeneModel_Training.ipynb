{
  "cells": [
    {
      "cell_type": "markdown",
      "metadata": {},
      "source": [
        "# Hierarchical Gene Model Training\n",
        "\n",
        "This notebook demonstrates training the Hierarchical Gene Model, which incorporates pathway and compartment organization for more biologically realistic gene expression modeling.\n",
        "\n",
        "## Model Features\n",
        "- **Pathway-aware processing**: Groups genes by biological pathways\n",
        "- **Compartment-specific normalization**: Handles cellular localization\n",
        "- **Hierarchical attention**: Multi-level attention mechanisms\n",
        "- **Biological constraints**: Enforces known gene-gene relationships\n"
      ]
    },
    {
      "cell_type": "markdown",
      "metadata": {},
      "source": [
        "## Setup and Imports\n"
      ]
    },
    {
      "cell_type": "code",
      "execution_count": null,
      "metadata": {},
      "outputs": [],
      "source": [
        "import torch\n",
        "import torch.nn as nn\n",
        "import torch.optim as optim\n",
        "import lightning as L\n",
        "import numpy as np\n",
        "import pandas as pd\n",
        "import matplotlib.pyplot as plt\n",
        "import seaborn as sns\n",
        "from pathlib import Path\n",
        "import json\n",
        "import logging\n",
        "from typing import Dict, List, Optional, Tuple\n",
        "\n",
        "# Set up logging\n",
        "logging.basicConfig(level=logging.INFO)\n",
        "logger = logging.getLogger(__name__)\n",
        "\n",
        "# Set random seeds for reproducibility\n",
        "torch.manual_seed(42)\n",
        "np.random.seed(42)\n",
        "\n",
        "# Set device\n",
        "device = torch.device('cuda' if torch.cuda.is_available() else 'cpu')\n",
        "print(f\"Using device: {device}\")\n"
      ]
    },
    {
      "cell_type": "markdown",
      "metadata": {},
      "source": [
        "## Import Enhanced Models and Loaders\n"
      ]
    },
    {
      "cell_type": "code",
      "execution_count": null,
      "metadata": {},
      "outputs": [],
      "source": [
        "# Import enhanced models\n",
        "from src.state.emb.nn.enhanced_models import HierarchicalGeneModel\n",
        "from src.state.emb.data.enhanced_loaders import HierarchicalDataLoader\n",
        "from src.state.emb.data.loader import create_dataloader\n",
        "from src.state.emb.nn.model import StateEmbeddingModel\n",
        "from src.state import utils\n",
        "\n",
        "print(\"Enhanced models and loaders imported successfully!\")\n"
      ]
    }
  ],
  "metadata": {
    "language_info": {
      "name": "python"
    }
  },
  "nbformat": 4,
  "nbformat_minor": 2
}
