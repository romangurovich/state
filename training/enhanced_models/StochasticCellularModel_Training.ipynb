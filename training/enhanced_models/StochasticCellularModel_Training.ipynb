{
  "cells": [
    {
      "cell_type": "markdown",
      "metadata": {},
      "source": [
        "# Stochastic Cellular Model Training\n",
        "\n",
        "This notebook demonstrates training the Stochastic Cellular Model, which models cellular variability and stochastic gene expression for more realistic biological simulation.\n",
        "\n",
        "## Model Features\n",
        "- **Stochastic modeling**: Captures cellular variability\n",
        "- **Noise-aware processing**: Handles intrinsic and extrinsic noise\n",
        "- **Variability normalization**: Accounts for expression noise\n",
        "- **Stochastic attention**: Focuses on reliable signals\n",
        "\n",
        "## Biological Motivation\n",
        "Cells exhibit significant variability in gene expression due to:\n",
        "- **Intrinsic noise**: Stochastic molecular processes\n",
        "- **Extrinsic noise**: Environmental fluctuations\n",
        "- **Cellular heterogeneity**: Population-level variation\n",
        "- **Temporal variability**: Dynamic expression changes\n"
      ]
    },
    {
      "cell_type": "code",
      "execution_count": null,
      "metadata": {},
      "outputs": [],
      "source": [
        "import torch\n",
        "import torch.nn as nn\n",
        "import torch.optim as optim\n",
        "import lightning as L\n",
        "import numpy as np\n",
        "import pandas as pd\n",
        "import matplotlib.pyplot as plt\n",
        "import seaborn as sns\n",
        "from pathlib import Path\n",
        "import json\n",
        "import logging\n",
        "from typing import Dict, List, Optional, Tuple\n",
        "\n",
        "# Set up logging\n",
        "logging.basicConfig(level=logging.INFO)\n",
        "logger = logging.getLogger(__name__)\n",
        "\n",
        "# Set random seeds for reproducibility\n",
        "torch.manual_seed(42)\n",
        "np.random.seed(42)\n",
        "\n",
        "# Set device\n",
        "device = torch.device('cuda' if torch.cuda.is_available() else 'cpu')\n",
        "print(f\"Using device: {device}\")\n",
        "\n",
        "# Import enhanced models\n",
        "from src.state.emb.nn.enhanced_models import StochasticCellularModel\n",
        "from src.state.emb.data.enhanced_loaders import StochasticDataLoader\n",
        "from src.state.emb.data.loader import create_dataloader\n",
        "from src.state.emb.nn.model import StateEmbeddingModel\n",
        "from src.state import utils\n",
        "\n",
        "print(\"Stochastic Cellular Model and loader imported successfully!\")\n"
      ]
    }
  ],
  "metadata": {
    "language_info": {
      "name": "python"
    }
  },
  "nbformat": 4,
  "nbformat_minor": 2
}
